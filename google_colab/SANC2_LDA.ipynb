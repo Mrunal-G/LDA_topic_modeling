{
  "nbformat": 4,
  "nbformat_minor": 0,
  "metadata": {
    "colab": {
      "name": "SANC2_LDA.ipynb",
      "provenance": [],
      "collapsed_sections": []
    },
    "kernelspec": {
      "name": "python3",
      "display_name": "Python 3"
    },
    "language_info": {
      "name": "python"
    }
  },
  "cells": [
    {
      "cell_type": "code",
      "source": [
        "# SANC2 LDA topic modeling data visualization in google colab using LDAvis"
      ],
      "metadata": {
        "id": "Fisv_RQ64179"
      },
      "execution_count": null,
      "outputs": []
    },
    {
      "cell_type": "code",
      "execution_count": 1,
      "metadata": {
        "colab": {
          "base_uri": "https://localhost:8080/"
        },
        "id": "RsoDvaaH1Lpe",
        "outputId": "7afe5064-94f3-4143-9e91-35a4cf29dd8c"
      },
      "outputs": [
        {
          "output_type": "stream",
          "name": "stdout",
          "text": [
            "Mounted at /content/drive/\n"
          ]
        }
      ],
      "source": [
        "# mounting the drive \n",
        "from google.colab import drive\n",
        "drive.mount('/content/drive/')"
      ]
    },
    {
      "cell_type": "code",
      "source": [
        "import tensorflow as tf\n",
        "import pandas as pd\n",
        "import numpy as np\n",
        "import matplotlib.pyplot as plt"
      ],
      "metadata": {
        "id": "j-FP7RNs1Pzg"
      },
      "execution_count": 2,
      "outputs": []
    },
    {
      "cell_type": "code",
      "source": [
        "df = pd.read_csv('/content/drive/My Drive/Colab Notebooks/data/sanc2_LDA.csv', encoding='latin-1')"
      ],
      "metadata": {
        "id": "VvFXAvef1Rg5"
      },
      "execution_count": 3,
      "outputs": []
    },
    {
      "cell_type": "code",
      "source": [
        ""
      ],
      "metadata": {
        "id": "lACq0HjF4zY1"
      },
      "execution_count": null,
      "outputs": []
    },
    {
      "cell_type": "code",
      "source": [
        "# printing the dataframe \n",
        "df.head(10)"
      ],
      "metadata": {
        "colab": {
          "base_uri": "https://localhost:8080/",
          "height": 363
        },
        "id": "5wPIy9T91UQ1",
        "outputId": "55bef2e3-7508-41a1-a720-17965621ae29"
      },
      "execution_count": 4,
      "outputs": [
        {
          "output_type": "execute_result",
          "data": {
            "text/plain": [
              "                                            ï»¿SANC2\n",
              "0              Severe inflation has ruined our lives\n",
              "1  It has not had much of an impact on personal l...\n",
              "2  Rising currency prices and subsequent price in...\n",
              "3  Inflation - business crisis - Restrictions on ...\n",
              "4  Sanctions have weakened incomes and people are...\n",
              "5  Sanctions have a direct impact on the lives of...\n",
              "6                                      Yes very much\n",
              "7                                      Yes very much\n",
              "8  Sanctions have led to the weakening of the cou...\n",
              "9                         Inflation, economic crisis"
            ],
            "text/html": [
              "\n",
              "  <div id=\"df-3ecf2a6d-d36e-46de-b313-d6a875142f53\">\n",
              "    <div class=\"colab-df-container\">\n",
              "      <div>\n",
              "<style scoped>\n",
              "    .dataframe tbody tr th:only-of-type {\n",
              "        vertical-align: middle;\n",
              "    }\n",
              "\n",
              "    .dataframe tbody tr th {\n",
              "        vertical-align: top;\n",
              "    }\n",
              "\n",
              "    .dataframe thead th {\n",
              "        text-align: right;\n",
              "    }\n",
              "</style>\n",
              "<table border=\"1\" class=\"dataframe\">\n",
              "  <thead>\n",
              "    <tr style=\"text-align: right;\">\n",
              "      <th></th>\n",
              "      <th>ï»¿SANC2</th>\n",
              "    </tr>\n",
              "  </thead>\n",
              "  <tbody>\n",
              "    <tr>\n",
              "      <th>0</th>\n",
              "      <td>Severe inflation has ruined our lives</td>\n",
              "    </tr>\n",
              "    <tr>\n",
              "      <th>1</th>\n",
              "      <td>It has not had much of an impact on personal l...</td>\n",
              "    </tr>\n",
              "    <tr>\n",
              "      <th>2</th>\n",
              "      <td>Rising currency prices and subsequent price in...</td>\n",
              "    </tr>\n",
              "    <tr>\n",
              "      <th>3</th>\n",
              "      <td>Inflation - business crisis - Restrictions on ...</td>\n",
              "    </tr>\n",
              "    <tr>\n",
              "      <th>4</th>\n",
              "      <td>Sanctions have weakened incomes and people are...</td>\n",
              "    </tr>\n",
              "    <tr>\n",
              "      <th>5</th>\n",
              "      <td>Sanctions have a direct impact on the lives of...</td>\n",
              "    </tr>\n",
              "    <tr>\n",
              "      <th>6</th>\n",
              "      <td>Yes very much</td>\n",
              "    </tr>\n",
              "    <tr>\n",
              "      <th>7</th>\n",
              "      <td>Yes very much</td>\n",
              "    </tr>\n",
              "    <tr>\n",
              "      <th>8</th>\n",
              "      <td>Sanctions have led to the weakening of the cou...</td>\n",
              "    </tr>\n",
              "    <tr>\n",
              "      <th>9</th>\n",
              "      <td>Inflation, economic crisis</td>\n",
              "    </tr>\n",
              "  </tbody>\n",
              "</table>\n",
              "</div>\n",
              "      <button class=\"colab-df-convert\" onclick=\"convertToInteractive('df-3ecf2a6d-d36e-46de-b313-d6a875142f53')\"\n",
              "              title=\"Convert this dataframe to an interactive table.\"\n",
              "              style=\"display:none;\">\n",
              "        \n",
              "  <svg xmlns=\"http://www.w3.org/2000/svg\" height=\"24px\"viewBox=\"0 0 24 24\"\n",
              "       width=\"24px\">\n",
              "    <path d=\"M0 0h24v24H0V0z\" fill=\"none\"/>\n",
              "    <path d=\"M18.56 5.44l.94 2.06.94-2.06 2.06-.94-2.06-.94-.94-2.06-.94 2.06-2.06.94zm-11 1L8.5 8.5l.94-2.06 2.06-.94-2.06-.94L8.5 2.5l-.94 2.06-2.06.94zm10 10l.94 2.06.94-2.06 2.06-.94-2.06-.94-.94-2.06-.94 2.06-2.06.94z\"/><path d=\"M17.41 7.96l-1.37-1.37c-.4-.4-.92-.59-1.43-.59-.52 0-1.04.2-1.43.59L10.3 9.45l-7.72 7.72c-.78.78-.78 2.05 0 2.83L4 21.41c.39.39.9.59 1.41.59.51 0 1.02-.2 1.41-.59l7.78-7.78 2.81-2.81c.8-.78.8-2.07 0-2.86zM5.41 20L4 18.59l7.72-7.72 1.47 1.35L5.41 20z\"/>\n",
              "  </svg>\n",
              "      </button>\n",
              "      \n",
              "  <style>\n",
              "    .colab-df-container {\n",
              "      display:flex;\n",
              "      flex-wrap:wrap;\n",
              "      gap: 12px;\n",
              "    }\n",
              "\n",
              "    .colab-df-convert {\n",
              "      background-color: #E8F0FE;\n",
              "      border: none;\n",
              "      border-radius: 50%;\n",
              "      cursor: pointer;\n",
              "      display: none;\n",
              "      fill: #1967D2;\n",
              "      height: 32px;\n",
              "      padding: 0 0 0 0;\n",
              "      width: 32px;\n",
              "    }\n",
              "\n",
              "    .colab-df-convert:hover {\n",
              "      background-color: #E2EBFA;\n",
              "      box-shadow: 0px 1px 2px rgba(60, 64, 67, 0.3), 0px 1px 3px 1px rgba(60, 64, 67, 0.15);\n",
              "      fill: #174EA6;\n",
              "    }\n",
              "\n",
              "    [theme=dark] .colab-df-convert {\n",
              "      background-color: #3B4455;\n",
              "      fill: #D2E3FC;\n",
              "    }\n",
              "\n",
              "    [theme=dark] .colab-df-convert:hover {\n",
              "      background-color: #434B5C;\n",
              "      box-shadow: 0px 1px 3px 1px rgba(0, 0, 0, 0.15);\n",
              "      filter: drop-shadow(0px 1px 2px rgba(0, 0, 0, 0.3));\n",
              "      fill: #FFFFFF;\n",
              "    }\n",
              "  </style>\n",
              "\n",
              "      <script>\n",
              "        const buttonEl =\n",
              "          document.querySelector('#df-3ecf2a6d-d36e-46de-b313-d6a875142f53 button.colab-df-convert');\n",
              "        buttonEl.style.display =\n",
              "          google.colab.kernel.accessAllowed ? 'block' : 'none';\n",
              "\n",
              "        async function convertToInteractive(key) {\n",
              "          const element = document.querySelector('#df-3ecf2a6d-d36e-46de-b313-d6a875142f53');\n",
              "          const dataTable =\n",
              "            await google.colab.kernel.invokeFunction('convertToInteractive',\n",
              "                                                     [key], {});\n",
              "          if (!dataTable) return;\n",
              "\n",
              "          const docLinkHtml = 'Like what you see? Visit the ' +\n",
              "            '<a target=\"_blank\" href=https://colab.research.google.com/notebooks/data_table.ipynb>data table notebook</a>'\n",
              "            + ' to learn more about interactive tables.';\n",
              "          element.innerHTML = '';\n",
              "          dataTable['output_type'] = 'display_data';\n",
              "          await google.colab.output.renderOutput(dataTable, element);\n",
              "          const docLink = document.createElement('div');\n",
              "          docLink.innerHTML = docLinkHtml;\n",
              "          element.appendChild(docLink);\n",
              "        }\n",
              "      </script>\n",
              "    </div>\n",
              "  </div>\n",
              "  "
            ]
          },
          "metadata": {},
          "execution_count": 4
        }
      ]
    },
    {
      "cell_type": "code",
      "source": [
        "df['ï»¿SANC2'][0] # before 925 are empty (NULL)"
      ],
      "metadata": {
        "colab": {
          "base_uri": "https://localhost:8080/",
          "height": 35
        },
        "id": "h6ndmcTT1nMw",
        "outputId": "8a66af04-af85-4a75-f887-3f081d983135"
      },
      "execution_count": 7,
      "outputs": [
        {
          "output_type": "execute_result",
          "data": {
            "text/plain": [
              "'Severe inflation has ruined our lives'"
            ],
            "application/vnd.google.colaboratory.intrinsic+json": {
              "type": "string"
            }
          },
          "metadata": {},
          "execution_count": 7
        }
      ]
    },
    {
      "cell_type": "code",
      "source": [
        "df['ï»¿SANC2'] = df['ï»¿SANC2'].str.replace('null', '')"
      ],
      "metadata": {
        "id": "Zu6w6x8V1nPD"
      },
      "execution_count": 8,
      "outputs": []
    },
    {
      "cell_type": "code",
      "source": [
        "import pandas as pd\n",
        "import numpy as np\n",
        "\n",
        "import re\n",
        "import string\n",
        "\n",
        "import spacy\n",
        "\n",
        "import gensim\n",
        "from gensim import corpora\n",
        "\n",
        "import matplotlib.pyplot as plt\n",
        "import seaborn as sns\n",
        "%matplotlib inline"
      ],
      "metadata": {
        "id": "yTRWeTa32JjB"
      },
      "execution_count": 10,
      "outputs": []
    },
    {
      "cell_type": "code",
      "source": [
        "# Remove punctuation\n",
        "df['SANC2_text_processed'] = \\\n",
        "df['ï»¿SANC2'].map(lambda x: re.sub('[,\\.!?]', '', x))# Convert the titles to lowercase\n",
        "df['SANC2_text_processed'] = \\\n",
        "df['SANC2_text_processed'].map(lambda x: x.lower())# Print out the first rows of papers\n",
        "df['SANC2_text_processed'].tail()"
      ],
      "metadata": {
        "colab": {
          "base_uri": "https://localhost:8080/"
        },
        "id": "vqOLs8iD1nRa",
        "outputId": "82913a07-f507-4c09-b9b4-a67319763398"
      },
      "execution_count": 11,
      "outputs": [
        {
          "output_type": "execute_result",
          "data": {
            "text/plain": [
              "220    lack of availability of modern technologies\\nl...\n",
              "221    rising prices of consumer goods that have impo...\n",
              "222    impossibility of foreign marketing weakness in...\n",
              "223                       sanctions reduce opportunities\n",
              "224    lack of access to health and pharmaceutical ma...\n",
              "Name: SANC2_text_processed, dtype: object"
            ]
          },
          "metadata": {},
          "execution_count": 11
        }
      ]
    },
    {
      "cell_type": "code",
      "source": [
        "import gensim\n",
        "from gensim.utils import simple_preprocess\n",
        "import nltk\n",
        "\n",
        "nltk.download('stopwords')\n",
        "from nltk.corpus import stopwords\n",
        "stop_words = stopwords.words('english')\n",
        "stop_words.extend(['from', 'subject', 're', 'edu', 'use'])\n",
        "\n",
        "def sent_to_words(sentences):\n",
        "    for sentence in sentences:\n",
        "        # deacc=True removes punctuations\n",
        "        yield(gensim.utils.simple_preprocess(str(sentence), deacc=True))\n",
        "        \n",
        "def remove_stopwords(texts):\n",
        "    return [[word for word in simple_preprocess(str(doc)) \n",
        "             if word not in stop_words] for doc in texts]\n",
        "\n",
        "data = df.SANC2_text_processed.values.tolist()\n",
        "data_words = list(sent_to_words(data))# remove stop words\n",
        "data_words = remove_stopwords(data_words)\n",
        "\n",
        "print(data_words[:1][0][:30])"
      ],
      "metadata": {
        "colab": {
          "base_uri": "https://localhost:8080/"
        },
        "id": "rfYJmo091nTo",
        "outputId": "c1b7d476-28cc-4e18-ea7c-4beb30904e34"
      },
      "execution_count": 13,
      "outputs": [
        {
          "output_type": "stream",
          "name": "stdout",
          "text": [
            "[nltk_data] Downloading package stopwords to /root/nltk_data...\n",
            "[nltk_data]   Unzipping corpora/stopwords.zip.\n",
            "['severe', 'inflation', 'ruined', 'lives']\n"
          ]
        }
      ]
    },
    {
      "cell_type": "code",
      "source": [
        "print(data_words[:1][0][:30])"
      ],
      "metadata": {
        "colab": {
          "base_uri": "https://localhost:8080/"
        },
        "id": "Fcd71hof1nV2",
        "outputId": "73d4a52c-0214-496c-d0f9-a63b596fee01"
      },
      "execution_count": 14,
      "outputs": [
        {
          "output_type": "stream",
          "name": "stdout",
          "text": [
            "['severe', 'inflation', 'ruined', 'lives']\n"
          ]
        }
      ]
    },
    {
      "cell_type": "code",
      "source": [
        "import gensim.corpora as corpora# Create Dictionary\n",
        "id2word = corpora.Dictionary(data_words)# Create Corpus\n",
        "texts = data_words# Term Document Frequency\n",
        "corpus = [id2word.doc2bow(text) for text in texts]# View\n",
        "print(corpus[:1][0][:30])"
      ],
      "metadata": {
        "colab": {
          "base_uri": "https://localhost:8080/"
        },
        "id": "s1u1M9xi1nYE",
        "outputId": "8d93da03-ca46-4ff2-b2a8-ae703cb6c0b3"
      },
      "execution_count": 15,
      "outputs": [
        {
          "output_type": "stream",
          "name": "stdout",
          "text": [
            "[(0, 1), (1, 1), (2, 1), (3, 1)]\n"
          ]
        }
      ]
    },
    {
      "cell_type": "code",
      "source": [
        "from pprint import pprint# number of topics\n",
        "num_topics = 7# Build LDA model\n",
        "lda_model = gensim.models.LdaMulticore(corpus=corpus,\n",
        "                                       id2word=id2word,\n",
        "                                       num_topics=num_topics)# Print the Keyword in the 10 topics\n",
        "pprint(lda_model.print_topics())\n",
        "doc_lda = lda_model[corpus]"
      ],
      "metadata": {
        "colab": {
          "base_uri": "https://localhost:8080/"
        },
        "id": "q6Y3b2e81nbn",
        "outputId": "7a72aff2-4463-47f2-c316-9e9f88f491fb"
      },
      "execution_count": 16,
      "outputs": [
        {
          "output_type": "stream",
          "name": "stdout",
          "text": [
            "[(0,\n",
            "  '0.022*\"sanctions\" + 0.017*\"income\" + 0.016*\"exchange\" + 0.015*\"increase\" + '\n",
            "  '0.014*\"financial\" + 0.013*\"economic\" + 0.010*\"lack\" + 0.009*\"affected\" + '\n",
            "  '0.009*\"goods\" + 0.008*\"rate\"'),\n",
            " (1,\n",
            "  '0.025*\"lack\" + 0.016*\"life\" + 0.016*\"access\" + 0.015*\"sanctions\" + '\n",
            "  '0.013*\"due\" + 0.010*\"reduction\" + 0.009*\"country\" + 0.008*\"costs\" + '\n",
            "  '0.008*\"impact\" + 0.007*\"materials\"'),\n",
            " (2,\n",
            "  '0.015*\"sanctions\" + 0.013*\"living\" + 0.012*\"resources\" + 0.012*\"items\" + '\n",
            "  '0.011*\"limited\" + 0.010*\"inflation\" + 0.010*\"access\" + 0.009*\"increase\" + '\n",
            "  '0.009*\"high\" + 0.009*\"difficulty\"'),\n",
            " (3,\n",
            "  '0.030*\"sanctions\" + 0.024*\"goods\" + 0.010*\"foreign\" + 0.010*\"people\" + '\n",
            "  '0.010*\"increase\" + 0.009*\"lives\" + 0.009*\"country\" + 0.009*\"products\" + '\n",
            "  '0.008*\"economic\" + 0.008*\"company\"'),\n",
            " (4,\n",
            "  '0.024*\"sanctions\" + 0.015*\"materials\" + 0.014*\"increase\" + 0.010*\"economic\" '\n",
            "  '+ 0.010*\"due\" + 0.009*\"impact\" + 0.009*\"price\" + 0.009*\"country\" + '\n",
            "  '0.008*\"raw\" + 0.008*\"decrease\"'),\n",
            " (5,\n",
            "  '0.022*\"prices\" + 0.016*\"purchasing\" + 0.015*\"increase\" + 0.015*\"rising\" + '\n",
            "  '0.015*\"goods\" + 0.014*\"power\" + 0.013*\"government\" + 0.012*\"sanctions\" + '\n",
            "  '0.012*\"decrease\" + 0.010*\"resources\"'),\n",
            " (6,\n",
            "  '0.046*\"sanctions\" + 0.019*\"economic\" + 0.013*\"affected\" + '\n",
            "  '0.012*\"international\" + 0.012*\"income\" + 0.011*\"decrease\" + 0.010*\"country\" '\n",
            "  '+ 0.009*\"foreign\" + 0.009*\"work\" + 0.008*\"due\"')]\n"
          ]
        }
      ]
    },
    {
      "cell_type": "code",
      "source": [
        "!pip install pyLDAvis==2.1.2"
      ],
      "metadata": {
        "colab": {
          "base_uri": "https://localhost:8080/"
        },
        "id": "4Y0MVZBG2jW6",
        "outputId": "2040be2b-6127-489e-aee6-dcc5b243a753"
      },
      "execution_count": 18,
      "outputs": [
        {
          "output_type": "stream",
          "name": "stdout",
          "text": [
            "Collecting pyLDAvis==2.1.2\n",
            "  Downloading pyLDAvis-2.1.2.tar.gz (1.6 MB)\n",
            "\u001b[?25l\r\u001b[K     |▏                               | 10 kB 35.9 MB/s eta 0:00:01\r\u001b[K     |▍                               | 20 kB 39.5 MB/s eta 0:00:01\r\u001b[K     |▋                               | 30 kB 42.9 MB/s eta 0:00:01\r\u001b[K     |▉                               | 40 kB 15.2 MB/s eta 0:00:01\r\u001b[K     |█                               | 51 kB 14.1 MB/s eta 0:00:01\r\u001b[K     |█▏                              | 61 kB 16.5 MB/s eta 0:00:01\r\u001b[K     |█▍                              | 71 kB 12.3 MB/s eta 0:00:01\r\u001b[K     |█▋                              | 81 kB 13.7 MB/s eta 0:00:01\r\u001b[K     |█▉                              | 92 kB 15.2 MB/s eta 0:00:01\r\u001b[K     |██                              | 102 kB 14.7 MB/s eta 0:00:01\r\u001b[K     |██▎                             | 112 kB 14.7 MB/s eta 0:00:01\r\u001b[K     |██▍                             | 122 kB 14.7 MB/s eta 0:00:01\r\u001b[K     |██▋                             | 133 kB 14.7 MB/s eta 0:00:01\r\u001b[K     |██▉                             | 143 kB 14.7 MB/s eta 0:00:01\r\u001b[K     |███                             | 153 kB 14.7 MB/s eta 0:00:01\r\u001b[K     |███▎                            | 163 kB 14.7 MB/s eta 0:00:01\r\u001b[K     |███▌                            | 174 kB 14.7 MB/s eta 0:00:01\r\u001b[K     |███▋                            | 184 kB 14.7 MB/s eta 0:00:01\r\u001b[K     |███▉                            | 194 kB 14.7 MB/s eta 0:00:01\r\u001b[K     |████                            | 204 kB 14.7 MB/s eta 0:00:01\r\u001b[K     |████▎                           | 215 kB 14.7 MB/s eta 0:00:01\r\u001b[K     |████▌                           | 225 kB 14.7 MB/s eta 0:00:01\r\u001b[K     |████▊                           | 235 kB 14.7 MB/s eta 0:00:01\r\u001b[K     |████▉                           | 245 kB 14.7 MB/s eta 0:00:01\r\u001b[K     |█████                           | 256 kB 14.7 MB/s eta 0:00:01\r\u001b[K     |█████▎                          | 266 kB 14.7 MB/s eta 0:00:01\r\u001b[K     |█████▌                          | 276 kB 14.7 MB/s eta 0:00:01\r\u001b[K     |█████▊                          | 286 kB 14.7 MB/s eta 0:00:01\r\u001b[K     |█████▉                          | 296 kB 14.7 MB/s eta 0:00:01\r\u001b[K     |██████                          | 307 kB 14.7 MB/s eta 0:00:01\r\u001b[K     |██████▎                         | 317 kB 14.7 MB/s eta 0:00:01\r\u001b[K     |██████▌                         | 327 kB 14.7 MB/s eta 0:00:01\r\u001b[K     |██████▊                         | 337 kB 14.7 MB/s eta 0:00:01\r\u001b[K     |███████                         | 348 kB 14.7 MB/s eta 0:00:01\r\u001b[K     |███████                         | 358 kB 14.7 MB/s eta 0:00:01\r\u001b[K     |███████▎                        | 368 kB 14.7 MB/s eta 0:00:01\r\u001b[K     |███████▌                        | 378 kB 14.7 MB/s eta 0:00:01\r\u001b[K     |███████▊                        | 389 kB 14.7 MB/s eta 0:00:01\r\u001b[K     |████████                        | 399 kB 14.7 MB/s eta 0:00:01\r\u001b[K     |████████▏                       | 409 kB 14.7 MB/s eta 0:00:01\r\u001b[K     |████████▎                       | 419 kB 14.7 MB/s eta 0:00:01\r\u001b[K     |████████▌                       | 430 kB 14.7 MB/s eta 0:00:01\r\u001b[K     |████████▊                       | 440 kB 14.7 MB/s eta 0:00:01\r\u001b[K     |█████████                       | 450 kB 14.7 MB/s eta 0:00:01\r\u001b[K     |█████████▏                      | 460 kB 14.7 MB/s eta 0:00:01\r\u001b[K     |█████████▍                      | 471 kB 14.7 MB/s eta 0:00:01\r\u001b[K     |█████████▌                      | 481 kB 14.7 MB/s eta 0:00:01\r\u001b[K     |█████████▊                      | 491 kB 14.7 MB/s eta 0:00:01\r\u001b[K     |██████████                      | 501 kB 14.7 MB/s eta 0:00:01\r\u001b[K     |██████████▏                     | 512 kB 14.7 MB/s eta 0:00:01\r\u001b[K     |██████████▍                     | 522 kB 14.7 MB/s eta 0:00:01\r\u001b[K     |██████████▋                     | 532 kB 14.7 MB/s eta 0:00:01\r\u001b[K     |██████████▊                     | 542 kB 14.7 MB/s eta 0:00:01\r\u001b[K     |███████████                     | 552 kB 14.7 MB/s eta 0:00:01\r\u001b[K     |███████████▏                    | 563 kB 14.7 MB/s eta 0:00:01\r\u001b[K     |███████████▍                    | 573 kB 14.7 MB/s eta 0:00:01\r\u001b[K     |███████████▋                    | 583 kB 14.7 MB/s eta 0:00:01\r\u001b[K     |███████████▊                    | 593 kB 14.7 MB/s eta 0:00:01\r\u001b[K     |████████████                    | 604 kB 14.7 MB/s eta 0:00:01\r\u001b[K     |████████████▏                   | 614 kB 14.7 MB/s eta 0:00:01\r\u001b[K     |████████████▍                   | 624 kB 14.7 MB/s eta 0:00:01\r\u001b[K     |████████████▋                   | 634 kB 14.7 MB/s eta 0:00:01\r\u001b[K     |████████████▉                   | 645 kB 14.7 MB/s eta 0:00:01\r\u001b[K     |█████████████                   | 655 kB 14.7 MB/s eta 0:00:01\r\u001b[K     |█████████████▏                  | 665 kB 14.7 MB/s eta 0:00:01\r\u001b[K     |█████████████▍                  | 675 kB 14.7 MB/s eta 0:00:01\r\u001b[K     |█████████████▋                  | 686 kB 14.7 MB/s eta 0:00:01\r\u001b[K     |█████████████▉                  | 696 kB 14.7 MB/s eta 0:00:01\r\u001b[K     |██████████████                  | 706 kB 14.7 MB/s eta 0:00:01\r\u001b[K     |██████████████▏                 | 716 kB 14.7 MB/s eta 0:00:01\r\u001b[K     |██████████████▍                 | 727 kB 14.7 MB/s eta 0:00:01\r\u001b[K     |██████████████▋                 | 737 kB 14.7 MB/s eta 0:00:01\r\u001b[K     |██████████████▉                 | 747 kB 14.7 MB/s eta 0:00:01\r\u001b[K     |███████████████                 | 757 kB 14.7 MB/s eta 0:00:01\r\u001b[K     |███████████████▎                | 768 kB 14.7 MB/s eta 0:00:01\r\u001b[K     |███████████████▍                | 778 kB 14.7 MB/s eta 0:00:01\r\u001b[K     |███████████████▋                | 788 kB 14.7 MB/s eta 0:00:01\r\u001b[K     |███████████████▉                | 798 kB 14.7 MB/s eta 0:00:01\r\u001b[K     |████████████████                | 808 kB 14.7 MB/s eta 0:00:01\r\u001b[K     |████████████████▎               | 819 kB 14.7 MB/s eta 0:00:01\r\u001b[K     |████████████████▌               | 829 kB 14.7 MB/s eta 0:00:01\r\u001b[K     |████████████████▋               | 839 kB 14.7 MB/s eta 0:00:01\r\u001b[K     |████████████████▉               | 849 kB 14.7 MB/s eta 0:00:01\r\u001b[K     |█████████████████               | 860 kB 14.7 MB/s eta 0:00:01\r\u001b[K     |█████████████████▎              | 870 kB 14.7 MB/s eta 0:00:01\r\u001b[K     |█████████████████▌              | 880 kB 14.7 MB/s eta 0:00:01\r\u001b[K     |█████████████████▋              | 890 kB 14.7 MB/s eta 0:00:01\r\u001b[K     |█████████████████▉              | 901 kB 14.7 MB/s eta 0:00:01\r\u001b[K     |██████████████████              | 911 kB 14.7 MB/s eta 0:00:01\r\u001b[K     |██████████████████▎             | 921 kB 14.7 MB/s eta 0:00:01\r\u001b[K     |██████████████████▌             | 931 kB 14.7 MB/s eta 0:00:01\r\u001b[K     |██████████████████▊             | 942 kB 14.7 MB/s eta 0:00:01\r\u001b[K     |██████████████████▉             | 952 kB 14.7 MB/s eta 0:00:01\r\u001b[K     |███████████████████             | 962 kB 14.7 MB/s eta 0:00:01\r\u001b[K     |███████████████████▎            | 972 kB 14.7 MB/s eta 0:00:01\r\u001b[K     |███████████████████▌            | 983 kB 14.7 MB/s eta 0:00:01\r\u001b[K     |███████████████████▊            | 993 kB 14.7 MB/s eta 0:00:01\r\u001b[K     |████████████████████            | 1.0 MB 14.7 MB/s eta 0:00:01\r\u001b[K     |████████████████████            | 1.0 MB 14.7 MB/s eta 0:00:01\r\u001b[K     |████████████████████▎           | 1.0 MB 14.7 MB/s eta 0:00:01\r\u001b[K     |████████████████████▌           | 1.0 MB 14.7 MB/s eta 0:00:01\r\u001b[K     |████████████████████▊           | 1.0 MB 14.7 MB/s eta 0:00:01\r\u001b[K     |█████████████████████           | 1.1 MB 14.7 MB/s eta 0:00:01\r\u001b[K     |█████████████████████▏          | 1.1 MB 14.7 MB/s eta 0:00:01\r\u001b[K     |█████████████████████▎          | 1.1 MB 14.7 MB/s eta 0:00:01\r\u001b[K     |█████████████████████▌          | 1.1 MB 14.7 MB/s eta 0:00:01\r\u001b[K     |█████████████████████▊          | 1.1 MB 14.7 MB/s eta 0:00:01\r\u001b[K     |██████████████████████          | 1.1 MB 14.7 MB/s eta 0:00:01\r\u001b[K     |██████████████████████▏         | 1.1 MB 14.7 MB/s eta 0:00:01\r\u001b[K     |██████████████████████▍         | 1.1 MB 14.7 MB/s eta 0:00:01\r\u001b[K     |██████████████████████▌         | 1.1 MB 14.7 MB/s eta 0:00:01\r\u001b[K     |██████████████████████▊         | 1.1 MB 14.7 MB/s eta 0:00:01\r\u001b[K     |███████████████████████         | 1.2 MB 14.7 MB/s eta 0:00:01\r\u001b[K     |███████████████████████▏        | 1.2 MB 14.7 MB/s eta 0:00:01\r\u001b[K     |███████████████████████▍        | 1.2 MB 14.7 MB/s eta 0:00:01\r\u001b[K     |███████████████████████▌        | 1.2 MB 14.7 MB/s eta 0:00:01\r\u001b[K     |███████████████████████▊        | 1.2 MB 14.7 MB/s eta 0:00:01\r\u001b[K     |████████████████████████        | 1.2 MB 14.7 MB/s eta 0:00:01\r\u001b[K     |████████████████████████▏       | 1.2 MB 14.7 MB/s eta 0:00:01\r\u001b[K     |████████████████████████▍       | 1.2 MB 14.7 MB/s eta 0:00:01\r\u001b[K     |████████████████████████▋       | 1.2 MB 14.7 MB/s eta 0:00:01\r\u001b[K     |████████████████████████▊       | 1.2 MB 14.7 MB/s eta 0:00:01\r\u001b[K     |█████████████████████████       | 1.3 MB 14.7 MB/s eta 0:00:01\r\u001b[K     |█████████████████████████▏      | 1.3 MB 14.7 MB/s eta 0:00:01\r\u001b[K     |█████████████████████████▍      | 1.3 MB 14.7 MB/s eta 0:00:01\r\u001b[K     |█████████████████████████▋      | 1.3 MB 14.7 MB/s eta 0:00:01\r\u001b[K     |█████████████████████████▉      | 1.3 MB 14.7 MB/s eta 0:00:01\r\u001b[K     |██████████████████████████      | 1.3 MB 14.7 MB/s eta 0:00:01\r\u001b[K     |██████████████████████████▏     | 1.3 MB 14.7 MB/s eta 0:00:01\r\u001b[K     |██████████████████████████▍     | 1.3 MB 14.7 MB/s eta 0:00:01\r\u001b[K     |██████████████████████████▋     | 1.3 MB 14.7 MB/s eta 0:00:01\r\u001b[K     |██████████████████████████▉     | 1.4 MB 14.7 MB/s eta 0:00:01\r\u001b[K     |███████████████████████████     | 1.4 MB 14.7 MB/s eta 0:00:01\r\u001b[K     |███████████████████████████▏    | 1.4 MB 14.7 MB/s eta 0:00:01\r\u001b[K     |███████████████████████████▍    | 1.4 MB 14.7 MB/s eta 0:00:01\r\u001b[K     |███████████████████████████▋    | 1.4 MB 14.7 MB/s eta 0:00:01\r\u001b[K     |███████████████████████████▉    | 1.4 MB 14.7 MB/s eta 0:00:01\r\u001b[K     |████████████████████████████    | 1.4 MB 14.7 MB/s eta 0:00:01\r\u001b[K     |████████████████████████████▏   | 1.4 MB 14.7 MB/s eta 0:00:01\r\u001b[K     |████████████████████████████▍   | 1.4 MB 14.7 MB/s eta 0:00:01\r\u001b[K     |████████████████████████████▋   | 1.4 MB 14.7 MB/s eta 0:00:01\r\u001b[K     |████████████████████████████▉   | 1.5 MB 14.7 MB/s eta 0:00:01\r\u001b[K     |█████████████████████████████   | 1.5 MB 14.7 MB/s eta 0:00:01\r\u001b[K     |█████████████████████████████▎  | 1.5 MB 14.7 MB/s eta 0:00:01\r\u001b[K     |█████████████████████████████▍  | 1.5 MB 14.7 MB/s eta 0:00:01\r\u001b[K     |█████████████████████████████▋  | 1.5 MB 14.7 MB/s eta 0:00:01\r\u001b[K     |█████████████████████████████▉  | 1.5 MB 14.7 MB/s eta 0:00:01\r\u001b[K     |██████████████████████████████  | 1.5 MB 14.7 MB/s eta 0:00:01\r\u001b[K     |██████████████████████████████▎ | 1.5 MB 14.7 MB/s eta 0:00:01\r\u001b[K     |██████████████████████████████▌ | 1.5 MB 14.7 MB/s eta 0:00:01\r\u001b[K     |██████████████████████████████▋ | 1.5 MB 14.7 MB/s eta 0:00:01\r\u001b[K     |██████████████████████████████▉ | 1.6 MB 14.7 MB/s eta 0:00:01\r\u001b[K     |███████████████████████████████ | 1.6 MB 14.7 MB/s eta 0:00:01\r\u001b[K     |███████████████████████████████▎| 1.6 MB 14.7 MB/s eta 0:00:01\r\u001b[K     |███████████████████████████████▌| 1.6 MB 14.7 MB/s eta 0:00:01\r\u001b[K     |███████████████████████████████▊| 1.6 MB 14.7 MB/s eta 0:00:01\r\u001b[K     |███████████████████████████████▉| 1.6 MB 14.7 MB/s eta 0:00:01\r\u001b[K     |████████████████████████████████| 1.6 MB 14.7 MB/s \n",
            "\u001b[?25hRequirement already satisfied: wheel>=0.23.0 in /usr/local/lib/python3.7/dist-packages (from pyLDAvis==2.1.2) (0.37.1)\n",
            "Requirement already satisfied: numpy>=1.9.2 in /usr/local/lib/python3.7/dist-packages (from pyLDAvis==2.1.2) (1.21.6)\n",
            "Requirement already satisfied: scipy>=0.18.0 in /usr/local/lib/python3.7/dist-packages (from pyLDAvis==2.1.2) (1.4.1)\n",
            "Requirement already satisfied: pandas>=0.17.0 in /usr/local/lib/python3.7/dist-packages (from pyLDAvis==2.1.2) (1.3.5)\n",
            "Requirement already satisfied: joblib>=0.8.4 in /usr/local/lib/python3.7/dist-packages (from pyLDAvis==2.1.2) (1.1.0)\n",
            "Requirement already satisfied: jinja2>=2.7.2 in /usr/local/lib/python3.7/dist-packages (from pyLDAvis==2.1.2) (2.11.3)\n",
            "Requirement already satisfied: numexpr in /usr/local/lib/python3.7/dist-packages (from pyLDAvis==2.1.2) (2.8.1)\n",
            "Requirement already satisfied: pytest in /usr/local/lib/python3.7/dist-packages (from pyLDAvis==2.1.2) (3.6.4)\n",
            "Requirement already satisfied: future in /usr/local/lib/python3.7/dist-packages (from pyLDAvis==2.1.2) (0.16.0)\n",
            "Collecting funcy\n",
            "  Downloading funcy-1.17-py2.py3-none-any.whl (33 kB)\n",
            "Requirement already satisfied: MarkupSafe>=0.23 in /usr/local/lib/python3.7/dist-packages (from jinja2>=2.7.2->pyLDAvis==2.1.2) (2.0.1)\n",
            "Requirement already satisfied: pytz>=2017.3 in /usr/local/lib/python3.7/dist-packages (from pandas>=0.17.0->pyLDAvis==2.1.2) (2022.1)\n",
            "Requirement already satisfied: python-dateutil>=2.7.3 in /usr/local/lib/python3.7/dist-packages (from pandas>=0.17.0->pyLDAvis==2.1.2) (2.8.2)\n",
            "Requirement already satisfied: six>=1.5 in /usr/local/lib/python3.7/dist-packages (from python-dateutil>=2.7.3->pandas>=0.17.0->pyLDAvis==2.1.2) (1.15.0)\n",
            "Requirement already satisfied: packaging in /usr/local/lib/python3.7/dist-packages (from numexpr->pyLDAvis==2.1.2) (21.3)\n",
            "Requirement already satisfied: pyparsing!=3.0.5,>=2.0.2 in /usr/local/lib/python3.7/dist-packages (from packaging->numexpr->pyLDAvis==2.1.2) (3.0.8)\n",
            "Requirement already satisfied: atomicwrites>=1.0 in /usr/local/lib/python3.7/dist-packages (from pytest->pyLDAvis==2.1.2) (1.4.0)\n",
            "Requirement already satisfied: pluggy<0.8,>=0.5 in /usr/local/lib/python3.7/dist-packages (from pytest->pyLDAvis==2.1.2) (0.7.1)\n",
            "Requirement already satisfied: setuptools in /usr/local/lib/python3.7/dist-packages (from pytest->pyLDAvis==2.1.2) (57.4.0)\n",
            "Requirement already satisfied: more-itertools>=4.0.0 in /usr/local/lib/python3.7/dist-packages (from pytest->pyLDAvis==2.1.2) (8.12.0)\n",
            "Requirement already satisfied: py>=1.5.0 in /usr/local/lib/python3.7/dist-packages (from pytest->pyLDAvis==2.1.2) (1.11.0)\n",
            "Requirement already satisfied: attrs>=17.4.0 in /usr/local/lib/python3.7/dist-packages (from pytest->pyLDAvis==2.1.2) (21.4.0)\n",
            "Building wheels for collected packages: pyLDAvis\n",
            "  Building wheel for pyLDAvis (setup.py) ... \u001b[?25l\u001b[?25hdone\n",
            "  Created wheel for pyLDAvis: filename=pyLDAvis-2.1.2-py2.py3-none-any.whl size=97738 sha256=1ce86a33168c0d78caa495b2db76ec0013586a27630f51d133f0b8835f8d91ea\n",
            "  Stored in directory: /root/.cache/pip/wheels/3b/fb/41/e32e5312da9f440d34c4eff0d2207b46dc9332a7b931ef1e89\n",
            "Successfully built pyLDAvis\n",
            "Installing collected packages: funcy, pyLDAvis\n",
            "Successfully installed funcy-1.17 pyLDAvis-2.1.2\n"
          ]
        }
      ]
    },
    {
      "cell_type": "code",
      "source": [
        "!pip install gensim"
      ],
      "metadata": {
        "colab": {
          "base_uri": "https://localhost:8080/"
        },
        "id": "Ai2KUFsV2rlJ",
        "outputId": "191ccc0e-ec0d-491e-a0f4-e4894be14dde"
      },
      "execution_count": 20,
      "outputs": [
        {
          "output_type": "stream",
          "name": "stdout",
          "text": [
            "Requirement already satisfied: gensim in /usr/local/lib/python3.7/dist-packages (3.6.0)\n",
            "Requirement already satisfied: six>=1.5.0 in /usr/local/lib/python3.7/dist-packages (from gensim) (1.15.0)\n",
            "Requirement already satisfied: numpy>=1.11.3 in /usr/local/lib/python3.7/dist-packages (from gensim) (1.21.6)\n",
            "Requirement already satisfied: scipy>=0.18.1 in /usr/local/lib/python3.7/dist-packages (from gensim) (1.4.1)\n",
            "Requirement already satisfied: smart-open>=1.2.1 in /usr/local/lib/python3.7/dist-packages (from gensim) (5.2.1)\n"
          ]
        }
      ]
    },
    {
      "cell_type": "code",
      "source": [
        "import pyLDAvis.gensim\n",
        "import pickle \n",
        "import os\n",
        "import pyLDAvis# Visualize the topics\n",
        "pyLDAvis.enable_notebook()\n",
        "LDAvis_data_filepath = os.path.join('/content/drive/My Drive/Colab Notebooks/data/SANC2_LDAvis_prepared_'+str(num_topics))# # this is a bit time consuming - make the if statement True\n",
        "# # if you want to execute visualization prep yourself\n",
        "if 1 == 1:\n",
        "    LDAvis_prepared = pyLDAvis.gensim.prepare(lda_model, corpus, id2word)\n",
        "    with open(LDAvis_data_filepath, 'wb') as f:\n",
        "        pickle.dump(LDAvis_prepared, f)# load the pre-prepared pyLDAvis data from disk\n",
        "with open(LDAvis_data_filepath, 'rb') as f:\n",
        "    LDAvis_prepared = pickle.load(f)\n",
        "    pyLDAvis.save_html(LDAvis_prepared, '/content/drive/My Drive/Colab Notebooks/data/SANC2_LDAvis_prepared_'+ str(num_topics) +'.html')\n",
        "    LDAvis_prepared"
      ],
      "metadata": {
        "colab": {
          "base_uri": "https://localhost:8080/"
        },
        "id": "WWq1LMy32zyD",
        "outputId": "3a6e0500-8980-421e-bf4e-e72684939205"
      },
      "execution_count": 27,
      "outputs": [
        {
          "output_type": "stream",
          "name": "stderr",
          "text": [
            "/usr/local/lib/python3.7/dist-packages/pyLDAvis/_prepare.py:232: FutureWarning: In a future version of pandas all arguments of DataFrame.drop except for the argument 'labels' will be keyword-only\n",
            "  head(R).drop('saliency', 1)\n"
          ]
        }
      ]
    },
    {
      "cell_type": "code",
      "source": [
        "import pyLDAvis.gensim_models as gensimvis\n",
        "#https://stackoverflow.com/questions/66759852/no-module-named-pyldavis\n",
        "pyLDAvis.enable_notebook()\n",
        "\n",
        "import os # new\n",
        "from pathlib import Path\n",
        "\n",
        "import pyLDAvis.gensim\n",
        "import pickle \n",
        "import pyLDAvis# Visualize the topics\n",
        "pyLDAvis.enable_notebook()\n",
        "\n",
        "#df = pd.read_csv(\"Sanctions/chord/housing.csv\")\n",
        "\n",
        "LDAvis_data_filepath = os.path.join('Sanctions/chord/SANC2_topics/SANC2_LDAvis_'+str(num_topics))# # this is a bit time consuming - make the if statement True\n",
        "# # if you want to execute visualization prep yourself\n",
        "if 1 == 1:\n",
        "    LDAvis_prepared = pyLDAvis.gensim.prepare(lda_model, corpus, id2word)\n",
        "    with open(LDAvis_data_filepath, 'wb') as f:\n",
        "        pickle.dump(LDAvis_prepared, f)# load the pre-prepared pyLDAvis data from disk\n",
        "with open(LDAvis_data_filepath, 'rb') as f:\n",
        "    LDAvis_prepared = pickle.load(f)\n",
        "    pyLDAvis.save_html(LDAvis_prepared, 'Sanctions/chord/SANC2_topics/SANC2_LDAvis_'+ str(num_topics) +'.html')\n",
        "    LDAvis_prepared"
      ],
      "metadata": {
        "colab": {
          "base_uri": "https://localhost:8080/",
          "height": 374
        },
        "id": "808D2Nds2eiD",
        "outputId": "d684abf2-6c2f-4174-fe99-0b6ee2b1cf3b"
      },
      "execution_count": 21,
      "outputs": [
        {
          "output_type": "error",
          "ename": "ModuleNotFoundError",
          "evalue": "ignored",
          "traceback": [
            "\u001b[0;31m---------------------------------------------------------------------------\u001b[0m",
            "\u001b[0;31mModuleNotFoundError\u001b[0m                       Traceback (most recent call last)",
            "\u001b[0;32m<ipython-input-21-1344937d9a3b>\u001b[0m in \u001b[0;36m<module>\u001b[0;34m()\u001b[0m\n\u001b[0;32m----> 1\u001b[0;31m \u001b[0;32mimport\u001b[0m \u001b[0mpyLDAvis\u001b[0m\u001b[0;34m.\u001b[0m\u001b[0mgensim_models\u001b[0m \u001b[0;32mas\u001b[0m \u001b[0mgensimvis\u001b[0m\u001b[0;34m\u001b[0m\u001b[0;34m\u001b[0m\u001b[0m\n\u001b[0m\u001b[1;32m      2\u001b[0m \u001b[0;31m#https://stackoverflow.com/questions/66759852/no-module-named-pyldavis\u001b[0m\u001b[0;34m\u001b[0m\u001b[0;34m\u001b[0m\u001b[0;34m\u001b[0m\u001b[0m\n\u001b[1;32m      3\u001b[0m \u001b[0mpyLDAvis\u001b[0m\u001b[0;34m.\u001b[0m\u001b[0menable_notebook\u001b[0m\u001b[0;34m(\u001b[0m\u001b[0;34m)\u001b[0m\u001b[0;34m\u001b[0m\u001b[0;34m\u001b[0m\u001b[0m\n\u001b[1;32m      4\u001b[0m \u001b[0;34m\u001b[0m\u001b[0m\n\u001b[1;32m      5\u001b[0m \u001b[0;32mimport\u001b[0m \u001b[0mos\u001b[0m \u001b[0;31m# new\u001b[0m\u001b[0;34m\u001b[0m\u001b[0;34m\u001b[0m\u001b[0m\n",
            "\u001b[0;31mModuleNotFoundError\u001b[0m: No module named 'pyLDAvis.gensim_models'",
            "",
            "\u001b[0;31m---------------------------------------------------------------------------\u001b[0;32m\nNOTE: If your import is failing due to a missing package, you can\nmanually install dependencies using either !pip or !apt.\n\nTo view examples of installing some common dependencies, click the\n\"Open Examples\" button below.\n\u001b[0;31m---------------------------------------------------------------------------\u001b[0m\n"
          ],
          "errorDetails": {
            "actions": [
              {
                "action": "open_url",
                "actionText": "Open Examples",
                "url": "/notebooks/snippets/importing_libraries.ipynb"
              }
            ]
          }
        }
      ]
    }
  ]
}